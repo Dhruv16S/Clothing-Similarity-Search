{
 "cells": [
  {
   "cell_type": "code",
   "execution_count": 1,
   "metadata": {
    "_cell_guid": "b1076dfc-b9ad-4769-8c92-a6c4dae69d19",
    "_uuid": "8f2839f25d086af736a60e9eeb907d3b93b6e0e5",
    "execution": {
     "iopub.execute_input": "2023-05-21T06:21:41.020823Z",
     "iopub.status.busy": "2023-05-21T06:21:41.019927Z",
     "iopub.status.idle": "2023-05-21T06:21:52.275266Z",
     "shell.execute_reply": "2023-05-21T06:21:52.273994Z",
     "shell.execute_reply.started": "2023-05-21T06:21:41.020784Z"
    }
   },
   "outputs": [
    {
     "name": "stdout",
     "output_type": "stream",
     "text": [
      "Requirement already satisfied: selenium==4.2.0 in c:\\users\\dhruv\\appdata\\local\\programs\\python\\python310\\lib\\site-packages (4.2.0)\n",
      "Requirement already satisfied: urllib3[secure,socks]~=1.26 in c:\\users\\dhruv\\appdata\\local\\programs\\python\\python310\\lib\\site-packages (from selenium==4.2.0) (1.26.15)\n",
      "Requirement already satisfied: trio~=0.17 in c:\\users\\dhruv\\appdata\\local\\programs\\python\\python310\\lib\\site-packages (from selenium==4.2.0) (0.22.0)\n",
      "Requirement already satisfied: trio-websocket~=0.9 in c:\\users\\dhruv\\appdata\\local\\programs\\python\\python310\\lib\\site-packages (from selenium==4.2.0) (0.10.2)\n",
      "Requirement already satisfied: attrs>=19.2.0 in c:\\users\\dhruv\\appdata\\local\\programs\\python\\python310\\lib\\site-packages (from trio~=0.17->selenium==4.2.0) (22.1.0)\n",
      "Requirement already satisfied: async-generator>=1.9 in c:\\users\\dhruv\\appdata\\local\\programs\\python\\python310\\lib\\site-packages (from trio~=0.17->selenium==4.2.0) (1.10)\n",
      "Requirement already satisfied: cffi>=1.14 in c:\\users\\dhruv\\appdata\\local\\programs\\python\\python310\\lib\\site-packages (from trio~=0.17->selenium==4.2.0) (1.15.1)\n",
      "Requirement already satisfied: sortedcontainers in c:\\users\\dhruv\\appdata\\local\\programs\\python\\python310\\lib\\site-packages (from trio~=0.17->selenium==4.2.0) (2.4.0)\n",
      "Requirement already satisfied: idna in c:\\users\\dhruv\\appdata\\local\\programs\\python\\python310\\lib\\site-packages (from trio~=0.17->selenium==4.2.0) (3.3)\n",
      "Requirement already satisfied: exceptiongroup>=1.0.0rc9 in c:\\users\\dhruv\\appdata\\local\\programs\\python\\python310\\lib\\site-packages (from trio~=0.17->selenium==4.2.0) (1.1.1)\n",
      "Requirement already satisfied: sniffio in c:\\users\\dhruv\\appdata\\local\\programs\\python\\python310\\lib\\site-packages (from trio~=0.17->selenium==4.2.0) (1.3.0)\n",
      "Requirement already satisfied: outcome in c:\\users\\dhruv\\appdata\\local\\programs\\python\\python310\\lib\\site-packages (from trio~=0.17->selenium==4.2.0) (1.2.0)\n",
      "Requirement already satisfied: wsproto>=0.14 in c:\\users\\dhruv\\appdata\\local\\programs\\python\\python310\\lib\\site-packages (from trio-websocket~=0.9->selenium==4.2.0) (1.2.0)\n",
      "Requirement already satisfied: certifi in c:\\users\\dhruv\\appdata\\local\\programs\\python\\python310\\lib\\site-packages (from urllib3[secure,socks]~=1.26->selenium==4.2.0) (2022.9.24)\n",
      "Requirement already satisfied: urllib3-secure-extra in c:\\users\\dhruv\\appdata\\local\\programs\\python\\python310\\lib\\site-packages (from urllib3[secure,socks]~=1.26->selenium==4.2.0) (0.1.0)\n",
      "Requirement already satisfied: pyOpenSSL>=0.14 in c:\\users\\dhruv\\appdata\\local\\programs\\python\\python310\\lib\\site-packages (from urllib3[secure,socks]~=1.26->selenium==4.2.0) (22.1.0)\n",
      "Requirement already satisfied: cryptography>=1.3.4 in c:\\users\\dhruv\\appdata\\local\\programs\\python\\python310\\lib\\site-packages (from urllib3[secure,socks]~=1.26->selenium==4.2.0) (38.0.3)\n",
      "Requirement already satisfied: PySocks!=1.5.7,<2.0,>=1.5.6 in c:\\users\\dhruv\\appdata\\local\\programs\\python\\python310\\lib\\site-packages (from urllib3[secure,socks]~=1.26->selenium==4.2.0) (1.7.1)\n",
      "Requirement already satisfied: pycparser in c:\\users\\dhruv\\appdata\\local\\programs\\python\\python310\\lib\\site-packages (from cffi>=1.14->trio~=0.17->selenium==4.2.0) (2.21)\n",
      "Requirement already satisfied: h11<1,>=0.9.0 in c:\\users\\dhruv\\appdata\\local\\programs\\python\\python310\\lib\\site-packages (from wsproto>=0.14->trio-websocket~=0.9->selenium==4.2.0) (0.14.0)\n"
     ]
    },
    {
     "name": "stderr",
     "output_type": "stream",
     "text": [
      "WARNING: You are using pip version 22.0.3; however, version 23.1.2 is available.\n",
      "You should consider upgrading via the 'C:\\Users\\dhruv\\AppData\\Local\\Programs\\Python\\Python310\\python.exe -m pip install --upgrade pip' command.\n"
     ]
    }
   ],
   "source": [
    "import warnings\n",
    "warnings.filterwarnings(\"ignore\")\n",
    "!pip install selenium==4.2.0"
   ]
  },
  {
   "cell_type": "code",
   "execution_count": 3,
   "metadata": {
    "execution": {
     "iopub.execute_input": "2023-05-21T06:21:52.277854Z",
     "iopub.status.busy": "2023-05-21T06:21:52.277528Z",
     "iopub.status.idle": "2023-05-21T06:21:52.283119Z",
     "shell.execute_reply": "2023-05-21T06:21:52.282219Z",
     "shell.execute_reply.started": "2023-05-21T06:21:52.277824Z"
    }
   },
   "outputs": [],
   "source": [
    "from selenium import webdriver\n",
    "import pandas as pd"
   ]
  },
  {
   "cell_type": "code",
   "execution_count": null,
   "metadata": {},
   "outputs": [
    {
     "name": "stdout",
     "output_type": "stream",
     "text": [
      "Scraping https://www.asos.com/men/shirts\n"
     ]
    }
   ],
   "source": [
    "# Define lists for product names, URLs and price\n",
    "url_list = list()\n",
    "name_list = list()\n",
    "price_list = list()\n",
    "\n",
    "def scrape_product_info(url_template, xpath):\n",
    "    # Set up the Selenium webdriver\n",
    "    driver = webdriver.Chrome()\n",
    "    \n",
    "    # Loop through the first 100 pages\n",
    "    for page in range(1, 100):  \n",
    "        url = url_template.format(page)\n",
    "        try:\n",
    "            driver.get(url)\n",
    "            \n",
    "        # If no more pages are available\n",
    "        except:\n",
    "            break\n",
    "        \n",
    "        # Find the target div element based on the provided XPath\n",
    "        div_element = driver.find_element_by_xpath(xpath)\n",
    "\n",
    "        # Find all the article elements within the div\n",
    "        article_elements = div_element.find_elements_by_xpath('./article')\n",
    "    \n",
    "        # Iterate over the article elements and scrape product information\n",
    "        for article in article_elements:\n",
    "\n",
    "            # Find the target a element within the article\n",
    "            a_element = article.find_element_by_xpath('./a')\n",
    "\n",
    "            # Extract the URL from the href attribute\n",
    "            product_url = a_element.get_attribute('href').strip()\n",
    "\n",
    "            # Find the name element within the a element\n",
    "            name_element = a_element.find_element_by_xpath('./div[2]/div/div/p')\n",
    "            product_name = name_element.text.strip()\n",
    "\n",
    "            # Find the price element within the a element\n",
    "            price_element = a_element.find_element_by_xpath('./p/span/span')\n",
    "            product_price = price_element.text.strip()\n",
    "\n",
    "            # Append the scraped product information\n",
    "            if product_url in url_list:\n",
    "                continue\n",
    "            url_list.append(product_url)\n",
    "            name_list.append(product_name)\n",
    "            price_list.append(product_price)\n",
    "            \n",
    "    # Quit the webdriver\n",
    "    driver.quit()\n",
    "\n",
    "url_template_list = [\n",
    "    'https://www.asos.com/men/shirts/cat/?cid=3602',\n",
    "    'https://www.asos.com/men/trousers-chinos/cat/?cid=4910',\n",
    "    'https://www.asos.com/men/sportswear/shoes/cat/?cid=27179&refine=attribute_1047:8606#nlid=mw|shoes|shop+by+product|sports+trainers',\n",
    "    'https://www.asos.com/men/watches/cat/?cid=19855',\n",
    "    'https://www.asos.com/men/ctas/fashion-online-21/cat/?cid=16769',\n",
    "    'https://www.asos.com/men/jeans/straight-jeans/cat/?cid=5052',\n",
    "    'https://www.asos.com/women/dresses/cat/?cid=8799',\n",
    "    'https://www.asos.com/women/shorts/cat/?cid=9263',\n",
    "    'https://www.asos.com/women/skirts/cat/?cid=2639',\n",
    "    'https://www.asos.com/women/dresses/party-dresses/cat/?cid=11057',\n",
    "    'https://www.asos.com/women/shoes/heels/cat/?cid=6461',\n",
    "    'https://www.asos.com/women/shoes/sandals/cat/?cid=6458',\n",
    "    'https://www.asos.com/women/accessories/sunglasses/cat/?cid=4545',\n",
    "    'https://www.asos.com/women/ctas/fashion-online-11/cat/?cid=13493'\n",
    "    ]\n",
    "xpath = '/html/body/div[1]/div/main/div/div/div[1]/div[2]/div/div[1]/section'\n",
    "\n",
    "for i in url_template_list:\n",
    "    # Scrape and display the product information for all pages\n",
    "    print(f\"Scraping {i[:-14]}\")\n",
    "    scrape_product_info(i+'&page={}', xpath)"
   ]
  },
  {
   "cell_type": "code",
   "execution_count": 258,
   "metadata": {},
   "outputs": [],
   "source": [
    "# Converting to pandas dataframe\n",
    "df = pd.DataFrame({\n",
    "    \"index\" : range(len(name_list)),\n",
    "    \"Product Name\" : name_list,\n",
    "    \"URL\": url_list,\n",
    "    \"Price\": price_list\n",
    "})"
   ]
  },
  {
   "cell_type": "code",
   "execution_count": null,
   "metadata": {},
   "outputs": [],
   "source": [
    "# Checking for duplicates "
   ]
  },
  {
   "cell_type": "code",
   "execution_count": null,
   "metadata": {},
   "outputs": [],
   "source": [
    "df.to_csv(\"./data/product_details.csv\", index = False)"
   ]
  },
  {
   "cell_type": "code",
   "execution_count": 23,
   "metadata": {},
   "outputs": [
    {
     "name": "stderr",
     "output_type": "stream",
     "text": [
      "WARNING: You are using pip version 22.0.3; however, version 23.1.2 is available.\n",
      "You should consider upgrading via the 'C:\\Users\\dhruv\\AppData\\Local\\Programs\\Python\\Python310\\python.exe -m pip install --upgrade pip' command.\n"
     ]
    },
    {
     "name": "stdout",
     "output_type": "stream",
     "text": [
      "Requirement already satisfied: nltk in c:\\users\\dhruv\\appdata\\local\\programs\\python\\python310\\lib\\site-packages (3.8.1)\n",
      "Requirement already satisfied: click in c:\\users\\dhruv\\appdata\\local\\programs\\python\\python310\\lib\\site-packages (from nltk) (8.1.3)\n",
      "Requirement already satisfied: tqdm in c:\\users\\dhruv\\appdata\\local\\programs\\python\\python310\\lib\\site-packages (from nltk) (4.62.3)\n",
      "Requirement already satisfied: regex>=2021.8.3 in c:\\users\\dhruv\\appdata\\local\\programs\\python\\python310\\lib\\site-packages (from nltk) (2022.10.31)\n",
      "Requirement already satisfied: joblib in c:\\users\\dhruv\\appdata\\local\\programs\\python\\python310\\lib\\site-packages (from nltk) (1.1.0)\n",
      "Requirement already satisfied: colorama in c:\\users\\dhruv\\appdata\\local\\programs\\python\\python310\\lib\\site-packages (from click->nltk) (0.4.6)\n",
      "showing info https://raw.githubusercontent.com/nltk/nltk_data/gh-pages/index.xml\n"
     ]
    },
    {
     "data": {
      "text/plain": [
       "True"
      ]
     },
     "execution_count": 23,
     "metadata": {},
     "output_type": "execute_result"
    }
   ],
   "source": [
    "# Importing necessary nltk libraries\n",
    "! pip install nltk\n",
    "import nltk\n",
    "nltk.download()"
   ]
  },
  {
   "cell_type": "code",
   "execution_count": 24,
   "metadata": {},
   "outputs": [],
   "source": [
    "from nltk import word_tokenize\n",
    "from nltk.corpus import stopwords\n",
    "from nltk.stem.porter import PorterStemmer\n",
    "from nltk import pos_tag"
   ]
  },
  {
   "cell_type": "code",
   "execution_count": 261,
   "metadata": {},
   "outputs": [],
   "source": [
    "# Converting all words to lower case\n",
    "processed_name = df[\"Processed Product Name\"]\n",
    "processed_name = [i.lower() for i in processed_name]\n",
    "# Appending processed data to ./product_details.csv\n",
    "df[\"Processed Product Name\"] = processed_name"
   ]
  },
  {
   "cell_type": "code",
   "execution_count": 264,
   "metadata": {},
   "outputs": [],
   "source": [
    "# Removing punctuations\n",
    "import string\n",
    "processed_text = df[\"Processed Product Name\"]\n",
    "for i in range(len(list(processed_text))):\n",
    "    temp = \"\"\n",
    "    for char in processed_text[i]:\n",
    "        # Adding inverted commas again due to difference in unicodes\n",
    "        if char not in string.punctuation + \"”’‘“\":\n",
    "            temp += char\n",
    "    processed_text[i] = temp"
   ]
  },
  {
   "cell_type": "code",
   "execution_count": 265,
   "metadata": {},
   "outputs": [],
   "source": [
    "# Tokenization\n",
    "processed_text = [word_tokenize(i) for i in processed_text]"
   ]
  },
  {
   "cell_type": "code",
   "execution_count": 266,
   "metadata": {},
   "outputs": [],
   "source": [
    "# Stopword Filtering\n",
    "for i in range(len(processed_text)):\n",
    "    temp = list()\n",
    "    for word in processed_text[i]:\n",
    "        if word not in stopwords.words('english'):\n",
    "            temp.append(word)\n",
    "    processed_text[i] = temp"
   ]
  },
  {
   "cell_type": "code",
   "execution_count": 267,
   "metadata": {},
   "outputs": [],
   "source": [
    "# Stemming\n",
    "tool = PorterStemmer()\n",
    "for i in range(len(processed_text)):\n",
    "    temp = list()\n",
    "    for word in processed_text[i]:\n",
    "        temp.append(tool.stem(word))\n",
    "    processed_text[i] = temp"
   ]
  },
  {
   "cell_type": "code",
   "execution_count": 268,
   "metadata": {},
   "outputs": [
    {
     "data": {
      "text/html": [
       "<div>\n",
       "<style scoped>\n",
       "    .dataframe tbody tr th:only-of-type {\n",
       "        vertical-align: middle;\n",
       "    }\n",
       "\n",
       "    .dataframe tbody tr th {\n",
       "        vertical-align: top;\n",
       "    }\n",
       "\n",
       "    .dataframe thead th {\n",
       "        text-align: right;\n",
       "    }\n",
       "</style>\n",
       "<table border=\"1\" class=\"dataframe\">\n",
       "  <thead>\n",
       "    <tr style=\"text-align: right;\">\n",
       "      <th></th>\n",
       "      <th>Product Name</th>\n",
       "      <th>URL</th>\n",
       "      <th>Price</th>\n",
       "      <th>Processed Product Name</th>\n",
       "    </tr>\n",
       "  </thead>\n",
       "  <tbody>\n",
       "    <tr>\n",
       "      <th>0</th>\n",
       "      <td>ASOS DESIGN relaxed revere shirt with peacock ...</td>\n",
       "      <td>https://www.asos.com/asos-design/asos-design-r...</td>\n",
       "      <td>32.00</td>\n",
       "      <td>[relax, rever, shirt, peacock, placement, print]</td>\n",
       "    </tr>\n",
       "    <tr>\n",
       "      <th>1</th>\n",
       "      <td>Selected Homme revere collar knitted shirt in ...</td>\n",
       "      <td>https://www.asos.com/selected-homme/selected-h...</td>\n",
       "      <td>48.00</td>\n",
       "      <td>[rever, collar, knit, shirt, white]</td>\n",
       "    </tr>\n",
       "    <tr>\n",
       "      <th>2</th>\n",
       "      <td>Hunky Trunks beach shirt in khaki checkerboard...</td>\n",
       "      <td>https://www.asos.com/hunky-trunks/hunky-trunks...</td>\n",
       "      <td>RP</td>\n",
       "      <td>[hunki, trunk, beach, shirt, khaki, checkerboa...</td>\n",
       "    </tr>\n",
       "    <tr>\n",
       "      <th>3</th>\n",
       "      <td>ASOS DESIGN shacket in dark brown</td>\n",
       "      <td>https://www.asos.com/asos-design/asos-design-s...</td>\n",
       "      <td>40.00</td>\n",
       "      <td>[shacket, dark, brown]</td>\n",
       "    </tr>\n",
       "    <tr>\n",
       "      <th>4</th>\n",
       "      <td>New Look long sleeve muscle fit poplin shirt i...</td>\n",
       "      <td>https://www.asos.com/new-look/new-look-long-sl...</td>\n",
       "      <td>16.00</td>\n",
       "      <td>[long, sleev, muscl, fit, poplin, shirt, black]</td>\n",
       "    </tr>\n",
       "    <tr>\n",
       "      <th>...</th>\n",
       "      <td>...</td>\n",
       "      <td>...</td>\n",
       "      <td>...</td>\n",
       "      <td>...</td>\n",
       "    </tr>\n",
       "    <tr>\n",
       "      <th>20995</th>\n",
       "      <td>The North Face Glacier wide neck boxy 1/4 zip ...</td>\n",
       "      <td>https://www.asos.com/the-north-face/the-north-...</td>\n",
       "      <td>74.00</td>\n",
       "      <td>[glacier, wide, neck, boxi, 14, zip, fleec, pi...</td>\n",
       "    </tr>\n",
       "    <tr>\n",
       "      <th>20996</th>\n",
       "      <td>Puma essentials small logo tee in brown</td>\n",
       "      <td>https://www.asos.com/puma/puma-essentials-smal...</td>\n",
       "      <td>21.00</td>\n",
       "      <td>[essenti, small, logo, tee, brown]</td>\n",
       "    </tr>\n",
       "    <tr>\n",
       "      <th>20997</th>\n",
       "      <td>The North Face Glacier 1/4 zip oversized fleec...</td>\n",
       "      <td>https://www.asos.com/the-north-face/the-north-...</td>\n",
       "      <td>69.00</td>\n",
       "      <td>[glacier, 14, zip, overs, fleec, green, flower...</td>\n",
       "    </tr>\n",
       "    <tr>\n",
       "      <th>20998</th>\n",
       "      <td>adidas Originals Contempo chunky striped sweat...</td>\n",
       "      <td>https://www.asos.com/adidas-originals/adidas-o...</td>\n",
       "      <td>65.00</td>\n",
       "      <td>[origin, contempo, chunki, stripe, sweatshirt,...</td>\n",
       "    </tr>\n",
       "    <tr>\n",
       "      <th>20999</th>\n",
       "      <td>Champion unisex small logo sweatshirt in black</td>\n",
       "      <td>https://www.asos.com/champion/champion-unisex-...</td>\n",
       "      <td>63.00</td>\n",
       "      <td>[unisex, small, logo, sweatshirt, black]</td>\n",
       "    </tr>\n",
       "  </tbody>\n",
       "</table>\n",
       "<p>21000 rows × 4 columns</p>\n",
       "</div>"
      ],
      "text/plain": [
       "                                            Product Name  \\\n",
       "0      ASOS DESIGN relaxed revere shirt with peacock ...   \n",
       "1      Selected Homme revere collar knitted shirt in ...   \n",
       "2      Hunky Trunks beach shirt in khaki checkerboard...   \n",
       "3                      ASOS DESIGN shacket in dark brown   \n",
       "4      New Look long sleeve muscle fit poplin shirt i...   \n",
       "...                                                  ...   \n",
       "20995  The North Face Glacier wide neck boxy 1/4 zip ...   \n",
       "20996            Puma essentials small logo tee in brown   \n",
       "20997  The North Face Glacier 1/4 zip oversized fleec...   \n",
       "20998  adidas Originals Contempo chunky striped sweat...   \n",
       "20999     Champion unisex small logo sweatshirt in black   \n",
       "\n",
       "                                                     URL  Price  \\\n",
       "0      https://www.asos.com/asos-design/asos-design-r...  32.00   \n",
       "1      https://www.asos.com/selected-homme/selected-h...  48.00   \n",
       "2      https://www.asos.com/hunky-trunks/hunky-trunks...     RP   \n",
       "3      https://www.asos.com/asos-design/asos-design-s...  40.00   \n",
       "4      https://www.asos.com/new-look/new-look-long-sl...  16.00   \n",
       "...                                                  ...    ...   \n",
       "20995  https://www.asos.com/the-north-face/the-north-...  74.00   \n",
       "20996  https://www.asos.com/puma/puma-essentials-smal...  21.00   \n",
       "20997  https://www.asos.com/the-north-face/the-north-...  69.00   \n",
       "20998  https://www.asos.com/adidas-originals/adidas-o...  65.00   \n",
       "20999  https://www.asos.com/champion/champion-unisex-...  63.00   \n",
       "\n",
       "                                  Processed Product Name  \n",
       "0       [relax, rever, shirt, peacock, placement, print]  \n",
       "1                    [rever, collar, knit, shirt, white]  \n",
       "2      [hunki, trunk, beach, shirt, khaki, checkerboa...  \n",
       "3                                 [shacket, dark, brown]  \n",
       "4        [long, sleev, muscl, fit, poplin, shirt, black]  \n",
       "...                                                  ...  \n",
       "20995  [glacier, wide, neck, boxi, 14, zip, fleec, pi...  \n",
       "20996                 [essenti, small, logo, tee, brown]  \n",
       "20997  [glacier, 14, zip, overs, fleec, green, flower...  \n",
       "20998  [origin, contempo, chunki, stripe, sweatshirt,...  \n",
       "20999           [unisex, small, logo, sweatshirt, black]  \n",
       "\n",
       "[21000 rows x 4 columns]"
      ]
     },
     "execution_count": 268,
     "metadata": {},
     "output_type": "execute_result"
    }
   ],
   "source": [
    "df[\"Processed Product Name\"] = processed_text\n",
    "df.to_csv(\"./data/processed_product_details.csv\", index = False)\n",
    "df"
   ]
  }
 ],
 "metadata": {
  "kernelspec": {
   "display_name": "Python 3 (ipykernel)",
   "language": "python",
   "name": "python3"
  },
  "language_info": {
   "codemirror_mode": {
    "name": "ipython",
    "version": 3
   },
   "file_extension": ".py",
   "mimetype": "text/x-python",
   "name": "python",
   "nbconvert_exporter": "python",
   "pygments_lexer": "ipython3",
   "version": "3.10.2"
  }
 },
 "nbformat": 4,
 "nbformat_minor": 4
}
