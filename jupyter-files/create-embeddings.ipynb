{
 "cells": [
  {
   "cell_type": "code",
   "execution_count": 1,
   "id": "aed1539f",
   "metadata": {},
   "outputs": [],
   "source": [
    "from sentence_transformers import SentenceTransformer\n",
    "import pandas as pd\n",
    "from sklearn.metrics.pairwise import cosine_similarity\n",
    "import numpy as np\n",
    "import ast\n",
    "\n",
    "# Initialize SentenceTransformer model\n",
    "model = SentenceTransformer(\"sentence-transformers/all-MiniLM-L6-v2\")\n",
    "\n",
    "df = pd.read_csv(\"../data/processed_product_details.csv\")\n",
    "\n",
    "# Encode detail descriptions\n",
    "df['embeddings'] = df['Product Name'].apply(lambda x: model.encode(x))\n",
    "df.to_csv(\"../data/embeddings.csv\", index = False)"
   ]
  },
  {
   "cell_type": "code",
   "execution_count": 7,
   "id": "606fa25c",
   "metadata": {},
   "outputs": [
    {
     "name": "stderr",
     "output_type": "stream",
     "text": [
      "C:\\Users\\dhruv\\AppData\\Local\\Temp\\ipykernel_19380\\231908318.py:10: SettingWithCopyWarning: \n",
      "A value is trying to be set on a copy of a slice from a DataFrame\n",
      "\n",
      "See the caveats in the documentation: https://pandas.pydata.org/pandas-docs/stable/user_guide/indexing.html#returning-a-view-versus-a-copy\n",
      "  df[\"embeddings\"][i] = float_list\n"
     ]
    }
   ],
   "source": [
    "# Type conversion\n",
    "df = pd.read_csv(\"../data/embeddings.csv\")\n",
    "type(df[\"embeddings\"][0])\n",
    "for i in range(len(df[\"embeddings\"])):\n",
    "    string = df[\"embeddings\"][i]\n",
    "    string = string.replace(',', '').replace('[', '').replace(']', '').replace('\\n', '')\n",
    "    substrings = string.split()\n",
    "    float_list = [float(substring) for substring in substrings]\n",
    "    df[\"embeddings\"][i] = float_list"
   ]
  },
  {
   "cell_type": "code",
   "execution_count": 10,
   "id": "b1efd723",
   "metadata": {},
   "outputs": [],
   "source": [
    "df.to_csv(\"../data/embeddings.csv\", index = False)"
   ]
  },
  {
   "cell_type": "code",
   "execution_count": null,
   "id": "f40e0d9a",
   "metadata": {},
   "outputs": [],
   "source": [
    "# Running a sample input condition\n",
    "\n",
    "user_description = \"t-shirts\"\n",
    "user_embedding = model.encode(user_description)\n",
    "\n",
    "df['similarity'] = cosine_similarity(np.vstack(df['embeddings'].values), [user_embedding])\n",
    "# Get the indexes of top 5 similar embeddings\n",
    "top_indexes = df['similarity'].argsort()[-5:][::-1]\n",
    "\n",
    "for i in top_indexes:\n",
    "    print(df.iloc[i][\"Product Name\"])\n",
    "    print(df.iloc[i][\"URL\"])\n",
    "    print(df.iloc[i][\"Price\"])"
   ]
  },
  {
   "cell_type": "code",
   "execution_count": null,
   "id": "9fafc77a",
   "metadata": {},
   "outputs": [],
   "source": [
    "import pickle \n",
    "pickle.dump(model, open(\"../similarity-seach-model.pkl\", \"wb\"))"
   ]
  }
 ],
 "metadata": {
  "kernelspec": {
   "display_name": "Python 3 (ipykernel)",
   "language": "python",
   "name": "python3"
  },
  "language_info": {
   "codemirror_mode": {
    "name": "ipython",
    "version": 3
   },
   "file_extension": ".py",
   "mimetype": "text/x-python",
   "name": "python",
   "nbconvert_exporter": "python",
   "pygments_lexer": "ipython3",
   "version": "3.10.2"
  }
 },
 "nbformat": 4,
 "nbformat_minor": 5
}
