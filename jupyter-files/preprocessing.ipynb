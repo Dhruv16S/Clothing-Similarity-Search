{
 "cells": [
  {
   "cell_type": "code",
   "execution_count": 1,
   "metadata": {},
   "outputs": [
    {
     "name": "stderr",
     "output_type": "stream",
     "text": [
      "WARNING: You are using pip version 22.0.3; however, version 23.1.2 is available.\n",
      "You should consider upgrading via the 'C:\\Users\\dhruv\\AppData\\Local\\Programs\\Python\\Python310\\python.exe -m pip install --upgrade pip' command.\n"
     ]
    },
    {
     "name": "stdout",
     "output_type": "stream",
     "text": [
      "Requirement already satisfied: nltk in c:\\users\\dhruv\\appdata\\local\\programs\\python\\python310\\lib\\site-packages (3.8.1)\n",
      "Requirement already satisfied: tqdm in c:\\users\\dhruv\\appdata\\local\\programs\\python\\python310\\lib\\site-packages (from nltk) (4.62.3)\n",
      "Requirement already satisfied: regex>=2021.8.3 in c:\\users\\dhruv\\appdata\\local\\programs\\python\\python310\\lib\\site-packages (from nltk) (2022.10.31)\n",
      "Requirement already satisfied: click in c:\\users\\dhruv\\appdata\\local\\programs\\python\\python310\\lib\\site-packages (from nltk) (8.1.3)\n",
      "Requirement already satisfied: joblib in c:\\users\\dhruv\\appdata\\local\\programs\\python\\python310\\lib\\site-packages (from nltk) (1.1.0)\n",
      "Requirement already satisfied: colorama in c:\\users\\dhruv\\appdata\\local\\programs\\python\\python310\\lib\\site-packages (from click->nltk) (0.4.6)\n",
      "showing info https://raw.githubusercontent.com/nltk/nltk_data/gh-pages/index.xml\n"
     ]
    },
    {
     "data": {
      "text/plain": [
       "True"
      ]
     },
     "execution_count": 1,
     "metadata": {},
     "output_type": "execute_result"
    }
   ],
   "source": [
    "# Importing necessary nltk libraries\n",
    "! pip install nltk\n",
    "import nltk\n",
    "import pandas as pd\n",
    "nltk.download()"
   ]
  },
  {
   "cell_type": "code",
   "execution_count": 2,
   "metadata": {},
   "outputs": [],
   "source": [
    "df = pd.read_csv(\"../data/product_details.csv\")"
   ]
  },
  {
   "cell_type": "code",
   "execution_count": 3,
   "metadata": {},
   "outputs": [],
   "source": [
    "from nltk import word_tokenize\n",
    "from nltk.corpus import stopwords\n",
    "from nltk.stem.porter import PorterStemmer\n",
    "from nltk import pos_tag"
   ]
  },
  {
   "cell_type": "code",
   "execution_count": 5,
   "metadata": {},
   "outputs": [],
   "source": [
    "# Converting all words to lower case\n",
    "processed_name = df[\"Product Name\"]\n",
    "processed_name = [i.lower() for i in processed_name]\n",
    "\n",
    "df[\"Processed Product Name\"] = processed_name"
   ]
  },
  {
   "cell_type": "code",
   "execution_count": 6,
   "metadata": {},
   "outputs": [
    {
     "name": "stderr",
     "output_type": "stream",
     "text": [
      "C:\\Users\\dhruv\\AppData\\Local\\Temp\\ipykernel_18600\\3464543384.py:10: SettingWithCopyWarning: \n",
      "A value is trying to be set on a copy of a slice from a DataFrame\n",
      "\n",
      "See the caveats in the documentation: https://pandas.pydata.org/pandas-docs/stable/user_guide/indexing.html#returning-a-view-versus-a-copy\n",
      "  processed_text[i] = temp\n"
     ]
    }
   ],
   "source": [
    "# Removing punctuations\n",
    "import string\n",
    "processed_text = df[\"Processed Product Name\"]\n",
    "for i in range(len(list(processed_text))):\n",
    "    temp = \"\"\n",
    "    for char in processed_text[i]:\n",
    "        # Adding inverted commas again due to difference in unicodes\n",
    "        if char not in string.punctuation + \"”’‘“\":\n",
    "            temp += char\n",
    "    processed_text[i] = temp"
   ]
  },
  {
   "cell_type": "code",
   "execution_count": 7,
   "metadata": {},
   "outputs": [],
   "source": [
    "# Tokenization\n",
    "processed_text = [word_tokenize(i) for i in processed_text]"
   ]
  },
  {
   "cell_type": "code",
   "execution_count": 8,
   "metadata": {},
   "outputs": [],
   "source": [
    "# Stopword Filtering\n",
    "for i in range(len(processed_text)):\n",
    "    temp = list()\n",
    "    for word in processed_text[i]:\n",
    "        if word not in stopwords.words('english'):\n",
    "            temp.append(word)\n",
    "    processed_text[i] = temp"
   ]
  },
  {
   "cell_type": "code",
   "execution_count": 9,
   "metadata": {},
   "outputs": [],
   "source": [
    "# Stemming\n",
    "tool = PorterStemmer()\n",
    "for i in range(len(processed_text)):\n",
    "    temp = list()\n",
    "    for word in processed_text[i]:\n",
    "        temp.append(tool.stem(word))\n",
    "    processed_text[i] = temp"
   ]
  },
  {
   "cell_type": "code",
   "execution_count": 10,
   "metadata": {},
   "outputs": [
    {
     "data": {
      "text/html": [
       "<div>\n",
       "<style scoped>\n",
       "    .dataframe tbody tr th:only-of-type {\n",
       "        vertical-align: middle;\n",
       "    }\n",
       "\n",
       "    .dataframe tbody tr th {\n",
       "        vertical-align: top;\n",
       "    }\n",
       "\n",
       "    .dataframe thead th {\n",
       "        text-align: right;\n",
       "    }\n",
       "</style>\n",
       "<table border=\"1\" class=\"dataframe\">\n",
       "  <thead>\n",
       "    <tr style=\"text-align: right;\">\n",
       "      <th></th>\n",
       "      <th>index</th>\n",
       "      <th>Product Name</th>\n",
       "      <th>URL</th>\n",
       "      <th>Price</th>\n",
       "      <th>Processed Product Name</th>\n",
       "    </tr>\n",
       "  </thead>\n",
       "  <tbody>\n",
       "    <tr>\n",
       "      <th>0</th>\n",
       "      <td>0</td>\n",
       "      <td>ASOS DESIGN towelling shirt in multi colour st...</td>\n",
       "      <td>https://www.asos.com/asos-design/asos-design-t...</td>\n",
       "      <td>£30.00</td>\n",
       "      <td>[aso, design, towel, shirt, multi, colour, str...</td>\n",
       "    </tr>\n",
       "    <tr>\n",
       "      <th>1</th>\n",
       "      <td>1</td>\n",
       "      <td>Topman short sleeve Italy fruit print shirt in...</td>\n",
       "      <td>https://www.asos.com/topman/topman-short-sleev...</td>\n",
       "      <td>£36.00</td>\n",
       "      <td>[topman, short, sleev, itali, fruit, print, sh...</td>\n",
       "    </tr>\n",
       "    <tr>\n",
       "      <th>2</th>\n",
       "      <td>2</td>\n",
       "      <td>ASOS DESIGN relaxed revere satin shirt with pa...</td>\n",
       "      <td>https://www.asos.com/asos-design/asos-design-r...</td>\n",
       "      <td>£30.00</td>\n",
       "      <td>[aso, design, relax, rever, satin, shirt, pais...</td>\n",
       "    </tr>\n",
       "    <tr>\n",
       "      <th>3</th>\n",
       "      <td>3</td>\n",
       "      <td>ASOS DESIGN cotton shacket in lilac</td>\n",
       "      <td>https://www.asos.com/asos-design/asos-design-c...</td>\n",
       "      <td>£30.00</td>\n",
       "      <td>[aso, design, cotton, shacket, lilac]</td>\n",
       "    </tr>\n",
       "    <tr>\n",
       "      <th>4</th>\n",
       "      <td>4</td>\n",
       "      <td>New Look long sleeve muscle fit poplin shirt i...</td>\n",
       "      <td>https://www.asos.com/new-look/new-look-long-sl...</td>\n",
       "      <td>£16.00</td>\n",
       "      <td>[new, look, long, sleev, muscl, fit, poplin, s...</td>\n",
       "    </tr>\n",
       "    <tr>\n",
       "      <th>...</th>\n",
       "      <td>...</td>\n",
       "      <td>...</td>\n",
       "      <td>...</td>\n",
       "      <td>...</td>\n",
       "      <td>...</td>\n",
       "    </tr>\n",
       "    <tr>\n",
       "      <th>31932</th>\n",
       "      <td>31932</td>\n",
       "      <td>Napapijri Sella hoodie in black</td>\n",
       "      <td>https://www.asos.com/napapijri/napapijri-sella...</td>\n",
       "      <td>£85.00</td>\n",
       "      <td>[napapijri, sella, hoodi, black]</td>\n",
       "    </tr>\n",
       "    <tr>\n",
       "      <th>31933</th>\n",
       "      <td>31933</td>\n",
       "      <td>adidas Training Techfit colourblock 1/4 zip sw...</td>\n",
       "      <td>https://www.asos.com/adidas-performance/adidas...</td>\n",
       "      <td>£43.00</td>\n",
       "      <td>[adida, train, techfit, colourblock, 14, zip, ...</td>\n",
       "    </tr>\n",
       "    <tr>\n",
       "      <th>31934</th>\n",
       "      <td>31934</td>\n",
       "      <td>adidas Originals central trefoil hoodie in grey</td>\n",
       "      <td>https://www.asos.com/adidas-originals/adidas-o...</td>\n",
       "      <td>£45.00</td>\n",
       "      <td>[adida, origin, central, trefoil, hoodi, grey]</td>\n",
       "    </tr>\n",
       "    <tr>\n",
       "      <th>31935</th>\n",
       "      <td>31935</td>\n",
       "      <td>The North Face Zumu hoodie in grey</td>\n",
       "      <td>https://www.asos.com/the-north-face/the-north-...</td>\n",
       "      <td>£79.00</td>\n",
       "      <td>[north, face, zumu, hoodi, grey]</td>\n",
       "    </tr>\n",
       "    <tr>\n",
       "      <th>31936</th>\n",
       "      <td>31936</td>\n",
       "      <td>Napapijri Morgex hoodie in navy</td>\n",
       "      <td>https://www.asos.com/napapijri/napapijri-morge...</td>\n",
       "      <td>£85.00</td>\n",
       "      <td>[napapijri, morgex, hoodi, navi]</td>\n",
       "    </tr>\n",
       "  </tbody>\n",
       "</table>\n",
       "<p>31937 rows × 5 columns</p>\n",
       "</div>"
      ],
      "text/plain": [
       "       index                                       Product Name  \\\n",
       "0          0  ASOS DESIGN towelling shirt in multi colour st...   \n",
       "1          1  Topman short sleeve Italy fruit print shirt in...   \n",
       "2          2  ASOS DESIGN relaxed revere satin shirt with pa...   \n",
       "3          3                ASOS DESIGN cotton shacket in lilac   \n",
       "4          4  New Look long sleeve muscle fit poplin shirt i...   \n",
       "...      ...                                                ...   \n",
       "31932  31932                    Napapijri Sella hoodie in black   \n",
       "31933  31933  adidas Training Techfit colourblock 1/4 zip sw...   \n",
       "31934  31934    adidas Originals central trefoil hoodie in grey   \n",
       "31935  31935                 The North Face Zumu hoodie in grey   \n",
       "31936  31936                    Napapijri Morgex hoodie in navy   \n",
       "\n",
       "                                                     URL   Price  \\\n",
       "0      https://www.asos.com/asos-design/asos-design-t...  £30.00   \n",
       "1      https://www.asos.com/topman/topman-short-sleev...  £36.00   \n",
       "2      https://www.asos.com/asos-design/asos-design-r...  £30.00   \n",
       "3      https://www.asos.com/asos-design/asos-design-c...  £30.00   \n",
       "4      https://www.asos.com/new-look/new-look-long-sl...  £16.00   \n",
       "...                                                  ...     ...   \n",
       "31932  https://www.asos.com/napapijri/napapijri-sella...  £85.00   \n",
       "31933  https://www.asos.com/adidas-performance/adidas...  £43.00   \n",
       "31934  https://www.asos.com/adidas-originals/adidas-o...  £45.00   \n",
       "31935  https://www.asos.com/the-north-face/the-north-...  £79.00   \n",
       "31936  https://www.asos.com/napapijri/napapijri-morge...  £85.00   \n",
       "\n",
       "                                  Processed Product Name  \n",
       "0      [aso, design, towel, shirt, multi, colour, str...  \n",
       "1      [topman, short, sleev, itali, fruit, print, sh...  \n",
       "2      [aso, design, relax, rever, satin, shirt, pais...  \n",
       "3                  [aso, design, cotton, shacket, lilac]  \n",
       "4      [new, look, long, sleev, muscl, fit, poplin, s...  \n",
       "...                                                  ...  \n",
       "31932                   [napapijri, sella, hoodi, black]  \n",
       "31933  [adida, train, techfit, colourblock, 14, zip, ...  \n",
       "31934     [adida, origin, central, trefoil, hoodi, grey]  \n",
       "31935                   [north, face, zumu, hoodi, grey]  \n",
       "31936                   [napapijri, morgex, hoodi, navi]  \n",
       "\n",
       "[31937 rows x 5 columns]"
      ]
     },
     "execution_count": 10,
     "metadata": {},
     "output_type": "execute_result"
    }
   ],
   "source": [
    "df[\"Processed Product Name\"] = processed_text\n",
    "df.to_csv(\"../data/processed_product_details.csv\", index = False)\n",
    "df"
   ]
  }
 ],
 "metadata": {
  "kernelspec": {
   "display_name": "Python 3 (ipykernel)",
   "language": "python",
   "name": "python3"
  },
  "language_info": {
   "codemirror_mode": {
    "name": "ipython",
    "version": 3
   },
   "file_extension": ".py",
   "mimetype": "text/x-python",
   "name": "python",
   "nbconvert_exporter": "python",
   "pygments_lexer": "ipython3",
   "version": "3.10.2"
  }
 },
 "nbformat": 4,
 "nbformat_minor": 4
}
