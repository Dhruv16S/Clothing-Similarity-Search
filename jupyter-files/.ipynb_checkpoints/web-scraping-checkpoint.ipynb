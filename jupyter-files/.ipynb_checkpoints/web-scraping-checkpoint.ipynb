{
 "cells": [
  {
   "cell_type": "code",
   "execution_count": 1,
   "metadata": {
    "_cell_guid": "b1076dfc-b9ad-4769-8c92-a6c4dae69d19",
    "_uuid": "8f2839f25d086af736a60e9eeb907d3b93b6e0e5",
    "execution": {
     "iopub.execute_input": "2023-05-21T06:21:41.020823Z",
     "iopub.status.busy": "2023-05-21T06:21:41.019927Z",
     "iopub.status.idle": "2023-05-21T06:21:52.275266Z",
     "shell.execute_reply": "2023-05-21T06:21:52.273994Z",
     "shell.execute_reply.started": "2023-05-21T06:21:41.020784Z"
    }
   },
   "outputs": [
    {
     "name": "stdout",
     "output_type": "stream",
     "text": [
      "Requirement already satisfied: selenium==4.2.0 in c:\\users\\dhruv\\appdata\\local\\programs\\python\\python310\\lib\\site-packages (4.2.0)\n",
      "Requirement already satisfied: urllib3[secure,socks]~=1.26 in c:\\users\\dhruv\\appdata\\local\\programs\\python\\python310\\lib\\site-packages (from selenium==4.2.0) (1.26.15)\n",
      "Requirement already satisfied: trio-websocket~=0.9 in c:\\users\\dhruv\\appdata\\local\\programs\\python\\python310\\lib\\site-packages (from selenium==4.2.0) (0.10.2)\n",
      "Requirement already satisfied: trio~=0.17 in c:\\users\\dhruv\\appdata\\local\\programs\\python\\python310\\lib\\site-packages (from selenium==4.2.0) (0.22.0)\n",
      "Requirement already satisfied: async-generator>=1.9 in c:\\users\\dhruv\\appdata\\local\\programs\\python\\python310\\lib\\site-packages (from trio~=0.17->selenium==4.2.0) (1.10)\n",
      "Requirement already satisfied: idna in c:\\users\\dhruv\\appdata\\local\\programs\\python\\python310\\lib\\site-packages (from trio~=0.17->selenium==4.2.0) (3.3)\n",
      "Requirement already satisfied: outcome in c:\\users\\dhruv\\appdata\\local\\programs\\python\\python310\\lib\\site-packages (from trio~=0.17->selenium==4.2.0) (1.2.0)\n",
      "Requirement already satisfied: cffi>=1.14 in c:\\users\\dhruv\\appdata\\local\\programs\\python\\python310\\lib\\site-packages (from trio~=0.17->selenium==4.2.0) (1.15.1)\n",
      "Requirement already satisfied: sniffio in c:\\users\\dhruv\\appdata\\local\\programs\\python\\python310\\lib\\site-packages (from trio~=0.17->selenium==4.2.0) (1.3.0)\n",
      "Requirement already satisfied: exceptiongroup>=1.0.0rc9 in c:\\users\\dhruv\\appdata\\local\\programs\\python\\python310\\lib\\site-packages (from trio~=0.17->selenium==4.2.0) (1.1.1)\n",
      "Requirement already satisfied: sortedcontainers in c:\\users\\dhruv\\appdata\\local\\programs\\python\\python310\\lib\\site-packages (from trio~=0.17->selenium==4.2.0) (2.4.0)\n",
      "Requirement already satisfied: attrs>=19.2.0 in c:\\users\\dhruv\\appdata\\local\\programs\\python\\python310\\lib\\site-packages (from trio~=0.17->selenium==4.2.0) (22.1.0)\n",
      "Requirement already satisfied: wsproto>=0.14 in c:\\users\\dhruv\\appdata\\local\\programs\\python\\python310\\lib\\site-packages (from trio-websocket~=0.9->selenium==4.2.0) (1.2.0)\n",
      "Requirement already satisfied: PySocks!=1.5.7,<2.0,>=1.5.6 in c:\\users\\dhruv\\appdata\\local\\programs\\python\\python310\\lib\\site-packages (from urllib3[secure,socks]~=1.26->selenium==4.2.0) (1.7.1)\n",
      "Requirement already satisfied: certifi in c:\\users\\dhruv\\appdata\\local\\programs\\python\\python310\\lib\\site-packages (from urllib3[secure,socks]~=1.26->selenium==4.2.0) (2022.9.24)\n",
      "Requirement already satisfied: cryptography>=1.3.4 in c:\\users\\dhruv\\appdata\\local\\programs\\python\\python310\\lib\\site-packages (from urllib3[secure,socks]~=1.26->selenium==4.2.0) (38.0.3)\n",
      "Requirement already satisfied: urllib3-secure-extra in c:\\users\\dhruv\\appdata\\local\\programs\\python\\python310\\lib\\site-packages (from urllib3[secure,socks]~=1.26->selenium==4.2.0) (0.1.0)\n",
      "Requirement already satisfied: pyOpenSSL>=0.14 in c:\\users\\dhruv\\appdata\\local\\programs\\python\\python310\\lib\\site-packages (from urllib3[secure,socks]~=1.26->selenium==4.2.0) (22.1.0)"
     ]
    },
    {
     "name": "stderr",
     "output_type": "stream",
     "text": [
      "WARNING: You are using pip version 22.0.3; however, version 23.1.2 is available.\n",
      "You should consider upgrading via the 'C:\\Users\\dhruv\\AppData\\Local\\Programs\\Python\\Python310\\python.exe -m pip install --upgrade pip' command.\n"
     ]
    },
    {
     "name": "stdout",
     "output_type": "stream",
     "text": [
      "\n",
      "Requirement already satisfied: pycparser in c:\\users\\dhruv\\appdata\\local\\programs\\python\\python310\\lib\\site-packages (from cffi>=1.14->trio~=0.17->selenium==4.2.0) (2.21)\n",
      "Requirement already satisfied: h11<1,>=0.9.0 in c:\\users\\dhruv\\appdata\\local\\programs\\python\\python310\\lib\\site-packages (from wsproto>=0.14->trio-websocket~=0.9->selenium==4.2.0) (0.14.0)\n"
     ]
    }
   ],
   "source": [
    "import warnings\n",
    "warnings.filterwarnings(\"ignore\")\n",
    "!pip install selenium==4.2.0"
   ]
  },
  {
   "cell_type": "code",
   "execution_count": 2,
   "metadata": {
    "execution": {
     "iopub.execute_input": "2023-05-21T06:21:52.277854Z",
     "iopub.status.busy": "2023-05-21T06:21:52.277528Z",
     "iopub.status.idle": "2023-05-21T06:21:52.283119Z",
     "shell.execute_reply": "2023-05-21T06:21:52.282219Z",
     "shell.execute_reply.started": "2023-05-21T06:21:52.277824Z"
    }
   },
   "outputs": [],
   "source": [
    "from selenium import webdriver\n",
    "import pandas as pd"
   ]
  },
  {
   "cell_type": "code",
   "execution_count": null,
   "metadata": {},
   "outputs": [
    {
     "name": "stdout",
     "output_type": "stream",
     "text": [
      "Scraping https://www.asos.com/men/shirts\n"
     ]
    }
   ],
   "source": [
    "# Define lists for product names, URLs and price\n",
    "url_list = list()\n",
    "name_list = list()\n",
    "price_list = list()\n",
    "\n",
    "def scrape_product_info(url_template, xpath):\n",
    "    # Set up the Selenium webdriver\n",
    "    driver = webdriver.Chrome()\n",
    "    \n",
    "    # Loop through the first 100 pages\n",
    "    for page in range(1, 100):  \n",
    "        url = url_template.format(page)\n",
    "        try:\n",
    "            driver.get(url)\n",
    "            \n",
    "        # If no more pages are available\n",
    "        except:\n",
    "            break\n",
    "        \n",
    "        # Find the target div element based on the provided XPath\n",
    "        div_element = driver.find_element_by_xpath(xpath)\n",
    "\n",
    "        # Find all the article elements within the div\n",
    "        article_elements = div_element.find_elements_by_xpath('./article')\n",
    "    \n",
    "        # Iterate over the article elements and scrape product information\n",
    "        for article in article_elements:\n",
    "\n",
    "            # Find the target a element within the article\n",
    "            a_element = article.find_element_by_xpath('./a')\n",
    "\n",
    "            # Extract the URL from the href attribute\n",
    "            product_url = a_element.get_attribute('href').strip()\n",
    "\n",
    "            # Find the name element within the a element\n",
    "            name_element = a_element.find_element_by_xpath('./div[2]/div/div/p')\n",
    "            product_name = name_element.text.strip()\n",
    "\n",
    "            # Find the price element within the a element\n",
    "            price_element = a_element.find_element_by_xpath('./p/span/span')\n",
    "            product_price = price_element.text.strip()\n",
    "\n",
    "            # Append the scraped product information\n",
    "            if product_url in url_list:\n",
    "                continue\n",
    "            url_list.append(product_url)\n",
    "            name_list.append(product_name)\n",
    "            price_list.append(product_price)\n",
    "            \n",
    "    # Quit the webdriver\n",
    "    driver.quit()\n",
    "\n",
    "url_template_list = [\n",
    "    'https://www.asos.com/men/shirts/cat/?cid=3602',\n",
    "    'https://www.asos.com/men/trousers-chinos/cat/?cid=4910',\n",
    "    'https://www.asos.com/men/sportswear/shoes/cat/?cid=27179&refine=attribute_1047:8606#nlid=mw|shoes|shop+by+product|sports+trainers',\n",
    "    'https://www.asos.com/men/watches/cat/?cid=19855',\n",
    "    'https://www.asos.com/men/ctas/fashion-online-21/cat/?cid=16769',\n",
    "    'https://www.asos.com/men/jeans/straight-jeans/cat/?cid=5052',\n",
    "    'https://www.asos.com/women/dresses/cat/?cid=8799',\n",
    "    'https://www.asos.com/women/shorts/cat/?cid=9263',\n",
    "    'https://www.asos.com/women/skirts/cat/?cid=2639',\n",
    "    'https://www.asos.com/women/dresses/party-dresses/cat/?cid=11057',\n",
    "    'https://www.asos.com/women/shoes/heels/cat/?cid=6461',\n",
    "    'https://www.asos.com/women/shoes/sandals/cat/?cid=6458',\n",
    "    'https://www.asos.com/women/accessories/sunglasses/cat/?cid=4545',\n",
    "    'https://www.asos.com/women/ctas/fashion-online-11/cat/?cid=13493'\n",
    "    ]\n",
    "xpath = '/html/body/div[1]/div/main/div/div/div[1]/div[2]/div/div[1]/section'\n",
    "\n",
    "for i in url_template_list:\n",
    "    # Scrape and display the product information for all pages\n",
    "    print(f\"Scraping {i[:-14]}\")\n",
    "    scrape_product_info(i+'&page={}', xpath)"
   ]
  },
  {
   "cell_type": "code",
   "execution_count": null,
   "metadata": {},
   "outputs": [],
   "source": [
    "# Converting to pandas dataframe\n",
    "df = pd.DataFrame({\n",
    "    \"index\" : range(len(name_list)),\n",
    "    \"Product Name\" : name_list,\n",
    "    \"URL\": url_list,\n",
    "    \"Price\": price_list\n",
    "})"
   ]
  },
  {
   "cell_type": "code",
   "execution_count": null,
   "metadata": {},
   "outputs": [],
   "source": [
    "df.to_csv(\"./data/product_details.csv\", index = False)"
   ]
  }
 ],
 "metadata": {
  "kernelspec": {
   "display_name": "Python 3 (ipykernel)",
   "language": "python",
   "name": "python3"
  },
  "language_info": {
   "codemirror_mode": {
    "name": "ipython",
    "version": 3
   },
   "file_extension": ".py",
   "mimetype": "text/x-python",
   "name": "python",
   "nbconvert_exporter": "python",
   "pygments_lexer": "ipython3",
   "version": "3.10.2"
  }
 },
 "nbformat": 4,
 "nbformat_minor": 4
}
