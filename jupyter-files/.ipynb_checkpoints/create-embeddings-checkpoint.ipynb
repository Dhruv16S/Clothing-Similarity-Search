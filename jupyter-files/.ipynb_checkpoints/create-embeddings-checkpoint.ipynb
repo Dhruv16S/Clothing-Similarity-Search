{
 "cells": [
  {
   "cell_type": "code",
   "execution_count": 1,
   "id": "aed1539f",
   "metadata": {},
   "outputs": [],
   "source": [
    "from sentence_transformers import SentenceTransformer\n",
    "import pandas as pd\n",
    "from sklearn.metrics.pairwise import cosine_similarity\n",
    "import numpy as np\n",
    "\n",
    "# Initialize SentenceTransformer model\n",
    "model = SentenceTransformer(\"sentence-transformers/all-MiniLM-L6-v2\")\n",
    "\n",
    "df = pd.read_csv(\"./data/processed_product_details.csv\")\n",
    "\n",
    "# Encode detail descriptions\n",
    "df['embeddings'] = df['Product Name'].apply(lambda x: model.encode(x))"
   ]
  },
  {
   "cell_type": "code",
   "execution_count": 16,
   "id": "f40e0d9a",
   "metadata": {},
   "outputs": [],
   "source": [
    "user_description = \"t-shirts\"\n",
    "user_embedding = model.encode(user_description)"
   ]
  },
  {
   "cell_type": "code",
   "execution_count": 18,
   "id": "9fafc77a",
   "metadata": {},
   "outputs": [
    {
     "name": "stdout",
     "output_type": "stream",
     "text": [
      "Only t-shirt dress in white\n",
      "https://www.asos.com/only/only-t-shirt-dress-in-white/prd/201930530?colourWayId=201930531&cid=8799\n",
      "10.50\n",
      "adidas Originals Neuclassics 3 stripe long sleeve t-shirt in white\n",
      "https://www.asos.com/adidas-originals/adidas-originals-neuclassics-3-stripe-long-sleeve-t-shirt-in-white/prd/203404108?colourWayId=203404161&cid=16769\n",
      "50.00\n",
      "Only graphic t-shirt mini dress in washed black\n",
      "https://www.asos.com/only/only-graphic-t-shirt-mini-dress-in-washed-black/prd/204720405?colourWayId=204720414&cid=8799\n",
      "21.00\n",
      "New Look oversized stripe t-shirt in white and navy\n",
      "https://www.asos.com/new-look/new-look-oversized-stripe-t-shirt-in-white-and-navy/prd/204055731?colourWayId=204055732&cid=3602\n",
      "13.00\n",
      "Lee label logo twill utlity shirt relaxed fit in tan\n",
      "https://www.asos.com/lee/lee-label-logo-twill-utlity-shirt-relaxed-fit-in-tan/prd/203839562?colourWayId=203839575&cid=3602\n",
      "60.00\n"
     ]
    }
   ],
   "source": [
    "df['similarity'] = cosine_similarity(np.vstack(df['embeddings'].values), [user_embedding])\n",
    "# Get the indexes of top 5 similar embeddings\n",
    "top_indexes = df['similarity'].argsort()[-5:][::-1]\n",
    "\n",
    "for i in top_indexes:\n",
    "    print(df.iloc[i][\"Product Name\"])\n",
    "    print(df.iloc[i][\"URL\"])\n",
    "    print(df.iloc[i][\"Price\"])\n",
    "    "
   ]
  }
 ],
 "metadata": {
  "kernelspec": {
   "display_name": "Python 3 (ipykernel)",
   "language": "python",
   "name": "python3"
  },
  "language_info": {
   "codemirror_mode": {
    "name": "ipython",
    "version": 3
   },
   "file_extension": ".py",
   "mimetype": "text/x-python",
   "name": "python",
   "nbconvert_exporter": "python",
   "pygments_lexer": "ipython3",
   "version": "3.10.2"
  }
 },
 "nbformat": 4,
 "nbformat_minor": 5
}
